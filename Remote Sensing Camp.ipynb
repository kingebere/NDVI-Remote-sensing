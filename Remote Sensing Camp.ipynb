{
 "cells": [
  {
   "cell_type": "markdown",
   "metadata": {
    "slideshow": {
     "slide_type": "slide"
    }
   },
   "source": [
    "## Finding satellite image of the 2018 Camp Fire \n",
    "\n",
    "<img src=\"https://upload.wikimedia.org/wikipedia/commons/thumb/b/b1/Camp_Fire_oli_2018312_Landsat.jpg/800px-Camp_Fire_oli_2018312_Landsat.jpg\">\n",
    "\n",
    "The Camp Fire was the deadliest and most destructive wildfire in California's history, and the most expensive natural disaster in the world in 2018 in terms of insured losses.\n",
    "\n",
    "- https://en.wikipedia.org/wiki/Camp_Fire_(2018)"
   ]
  },
  {
   "cell_type": "markdown",
   "metadata": {
    "slideshow": {
     "slide_type": "slide"
    }
   },
   "source": [
    "### The Workflow\n",
    "\n",
    "In this example, we will do the following:\n",
    "\n",
    "- Use Google Earth Engine's Python API\n",
    "- define an AOI (area of interest) in the Northern California's Butte County\n",
    "- import multiple Landsat images from the dates before and after the Camp Fire\n",
    "- determine which images are best for analysis\n",
    "- create various NDVI map outputs to assess the amount of fire damage"
   ]
  },
  {
   "cell_type": "markdown",
   "metadata": {
    "slideshow": {
     "slide_type": "slide"
    }
   },
   "source": [
    "## Python libraries in this workshop\n",
    "\n",
    "- [pandas](https://pandas.pydata.org/docs/getting_started/index.html)\n",
    "- [geopandas](https://geopandas.org/en/stable/gallery/index.html)\n",
    "- [google earth engine](https://developers.google.com/earth-engine/tutorials/community/intro-to-python-api-guiattard)\n"
   ]
  },
  {
   "cell_type": "code",
   "execution_count": null,
   "metadata": {
    "slideshow": {
     "slide_type": "-"
    }
   },
   "outputs": [],
   "source": [
    "!pip install pipwin\n",
    "!pip install gdal\n",
    "!pip install fiona\n",
    "!pip install geopandas\n",
    "!pip install ee\n",
    "!pip install IPython.display\n",
    "# the regulars\n",
    "import pandas as pd\n",
    "import geopandas as gpd\n",
    "\n",
    "# earth engine\n",
    "import ee\n",
    "\n",
    "# allow images to display in the notebook\n",
    "from IPython.display import Image"
   ]
  },
  {
   "cell_type": "markdown",
   "metadata": {
    "slideshow": {
     "slide_type": "slide"
    }
   },
   "source": [
    "## Authenticate Earth Engine"
   ]
  },
  {
   "cell_type": "code",
   "execution_count": null,
   "metadata": {
    "slideshow": {
     "slide_type": "-"
    }
   },
   "outputs": [],
   "source": [
    "# Trigger the authentication flow.\n",
    "ee.Authenticate()\n",
    "\n",
    "# Initialize the library.\n",
    "ee.Initialize()"
   ]
  },
  {
   "cell_type": "markdown",
   "metadata": {
    "slideshow": {
     "slide_type": "slide"
    }
   },
   "source": [
    "For this lab, we will use Google Earth Engine's \"USGS Landsat 8 Level 2, Collection 2, Tier 1\"\n",
    "\n",
    "- [EE Landsat 8](https://developers.google.com/earth-engine/datasets/catalog/LANDSAT_LC08_C02_T1_L2)\n",
    "\n",
    "You can also:\n",
    "\n",
    "- `.filterBounds()` method allows you to filter by location\n",
    "- `.filterDate()` allows you to filter by date"
   ]
  },
  {
   "cell_type": "markdown",
   "metadata": {
    "slideshow": {
     "slide_type": "slide"
    }
   },
   "source": [
    "## Define filters"
   ]
  },
  {
   "cell_type": "code",
   "execution_count": null,
   "metadata": {
    "slideshow": {
     "slide_type": "-"
    }
   },
   "outputs": [],
   "source": [
    "# coordinates of the Camp Fire\n",
    "lat =  39.444012\n",
    "lon = -121.833619\n",
    "\n",
    "# point of interest as an ee.Geometry\n",
    "poi = ee.Geometry.Point(lon,lat)\n",
    "\n",
    "# start date of range to filter for\n",
    "start_date = '2018-10-01'\n",
    "\n",
    "# end date\n",
    "end_date = '2019-01-31'"
   ]
  },
  {
   "cell_type": "markdown",
   "metadata": {
    "slideshow": {
     "slide_type": "slide"
    }
   },
   "source": [
    "## Get Landsat 8 data"
   ]
  },
  {
   "cell_type": "code",
   "execution_count": null,
   "metadata": {
    "slideshow": {
     "slide_type": "-"
    }
   },
   "outputs": [],
   "source": [
    "# get the satellite data\n",
    "landsat = ee.ImageCollection(\"LANDSAT/LC08/C02/T1_L2\")\\\n",
    "            .filterBounds(poi)\\\n",
    "            .filterDate(start_date,end_date)"
   ]
  },
  {
   "cell_type": "code",
   "execution_count": null,
   "metadata": {
    "slideshow": {
     "slide_type": "slide"
    }
   },
   "outputs": [],
   "source": [
    "# how many images did we get?\n",
    "print('Total number:', landsat.size().getInfo())"
   ]
  },
  {
   "cell_type": "code",
   "execution_count": null,
   "metadata": {
    "slideshow": {
     "slide_type": "slide"
    }
   },
   "outputs": [],
   "source": [
    "# information about the first image in our collection\n",
    "landsat.first().getInfo()"
   ]
  },
  {
   "cell_type": "code",
   "execution_count": null,
   "metadata": {
    "slideshow": {
     "slide_type": "slide"
    }
   },
   "outputs": [],
   "source": [
    "# what about cloud cover of our first image?\n",
    "landsat.first().get('CLOUD_COVER').getInfo()"
   ]
  },
  {
   "cell_type": "code",
   "execution_count": null,
   "metadata": {
    "slideshow": {
     "slide_type": "slide"
    }
   },
   "outputs": [],
   "source": [
    "# when was this image taken?\n",
    "landsat.first().get('DATE_ACQUIRED').getInfo()"
   ]
  },
  {
   "cell_type": "code",
   "execution_count": null,
   "metadata": {
    "slideshow": {
     "slide_type": "slide"
    }
   },
   "outputs": [],
   "source": [
    "# what bands did we get?\n",
    "landsat.first().bandNames().getInfo()"
   ]
  },
  {
   "cell_type": "code",
   "execution_count": null,
   "metadata": {
    "slideshow": {
     "slide_type": "fragment"
    }
   },
   "outputs": [],
   "source": [
    "# put the images in a list\n",
    "landsat_list = landsat.toList(landsat.size());"
   ]
  },
  {
   "cell_type": "markdown",
   "metadata": {
    "slideshow": {
     "slide_type": "slide"
    }
   },
   "source": [
    "## Display satellite image\n",
    "\n",
    "- [What are the min/max values?](https://gis.stackexchange.com/questions/304180/what-are-the-min-and-max-values-of-map-addlayer-on-google-earth-engine)"
   ]
  },
  {
   "cell_type": "code",
   "execution_count": null,
   "metadata": {},
   "outputs": [],
   "source": [
    "# set some parameters for the images\n",
    "parameters = {\n",
    "                'min': 7000,\n",
    "                'max': 16000,\n",
    "                'dimensions': 800, # square size in pixels\n",
    "                'bands': ['SR_B4', 'SR_B3', 'SR_B2'] # bands to display (r,g,b)\n",
    "             }"
   ]
  },
  {
   "cell_type": "code",
   "execution_count": null,
   "metadata": {
    "scrolled": true,
    "slideshow": {
     "slide_type": "slide"
    },
    "tags": []
   },
   "outputs": [],
   "source": [
    "# create an empty data container\n",
    "data = []\n",
    "\n",
    "# loop through each image and display it\n",
    "for i in range(landsat.size().getInfo()):\n",
    "\n",
    "    # when was this image taken?\n",
    "    date = ee.Image(landsat_list.get(i)).get('DATE_ACQUIRED').getInfo()\n",
    "    \n",
    "    # cloud cover\n",
    "    cloud = ee.Image(landsat_list.get(i)).get('CLOUD_COVER').getInfo()\n",
    "    \n",
    "    # print the image info\n",
    "    print('Image #',i,date,'Cloud cover:',cloud)\n",
    "    \n",
    "    # display the image\n",
    "    display(Image(url = ee.Image(landsat_list.get(i)).getThumbUrl(parameters)))\n",
    "\n",
    "    # data to list\n",
    "    this_data = [i,date,cloud]\n",
    "\n",
    "    # append the data \n",
    "    data.append(this_data)\n",
    "    \n",
    "\n",
    "# Create the pandas DataFrame\n",
    "df = pd.DataFrame(data, columns = ['Image #', 'Date', 'Cloud Cover'])"
   ]
  },
  {
   "cell_type": "code",
   "execution_count": null,
   "metadata": {
    "slideshow": {
     "slide_type": "slide"
    }
   },
   "outputs": [],
   "source": [
    "# our data in a dataframe\n",
    "df"
   ]
  },
  {
   "cell_type": "markdown",
   "metadata": {
    "slideshow": {
     "slide_type": "slide"
    }
   },
   "source": [
    "## Selecting images, zooming in\n",
    "Now that we have inspected our collection of images, we can pick and choose which ones are relevant for our study. Ideally, we want to have images for before and after the fire to be able to assess the level of damage.\n",
    "\n",
    "We also want to create an ROI (region of interest) and zoom in to the area of interest. We do so by appying a 20km buffer around our POI."
   ]
  },
  {
   "cell_type": "code",
   "execution_count": null,
   "metadata": {
    "slideshow": {
     "slide_type": "slide"
    }
   },
   "outputs": [],
   "source": [
    "# create a list of images we want (before, during, after)\n",
    "landsat_sequence = [0,2,5]"
   ]
  },
  {
   "cell_type": "code",
   "execution_count": null,
   "metadata": {
    "slideshow": {
     "slide_type": "fragment"
    }
   },
   "outputs": [],
   "source": [
    "# Define a region of interest with a buffer zone of 20 km\n",
    "roi = poi.buffer(20000) # meters"
   ]
  },
  {
   "cell_type": "code",
   "execution_count": null,
   "metadata": {
    "slideshow": {
     "slide_type": "fragment"
    }
   },
   "outputs": [],
   "source": [
    "parameters = {\n",
    "                'min': 6000,\n",
    "                'max': 16000,\n",
    "                'dimensions': 800,\n",
    "                'bands': ['SR_B4', 'SR_B3', 'SR_B2'],\n",
    "                'region':roi\n",
    "             }"
   ]
  },
  {
   "cell_type": "code",
   "execution_count": null,
   "metadata": {
    "scrolled": true,
    "slideshow": {
     "slide_type": "slide"
    },
    "tags": []
   },
   "outputs": [],
   "source": [
    "for i in landsat_sequence:\n",
    "    \n",
    "    # when was this image taken?\n",
    "    date = ee.Image(landsat_list.get(i)).get('DATE_ACQUIRED').getInfo()\n",
    "\n",
    "    # cloud cover\n",
    "    cloud = ee.Image(landsat_list.get(i)).get('CLOUD_COVER').getInfo()\n",
    "    \n",
    "    print('Image #',i,date,'Cloud cover:',cloud)\n",
    "    \n",
    "    display(Image(url = ee.Image(landsat_list.get(i)).getThumbUrl(parameters)))"
   ]
  },
  {
   "cell_type": "markdown",
   "metadata": {
    "slideshow": {
     "slide_type": "slide"
    }
   },
   "source": [
    "## Normalized Difference Vegetation Index (NDVI)\n",
    "\n",
    "The normalized difference vegetation index (NDVI) is a simple graphical indicator that can be used to analyze remote sensing measurements, often from a space platform, assessing whether or not the target being observed contains live green vegetation.\n",
    "\n",
    "<img src=\"images/ndvi.png\" width=600>\n",
    "\n",
    "- [Source: Agricolus](https://www.agricolus.com/en/vegetation-indices-ndvi-ndmi/)"
   ]
  },
  {
   "cell_type": "markdown",
   "metadata": {
    "slideshow": {
     "slide_type": "slide"
    }
   },
   "source": [
    "### Calculating NDVI in Google Earth Engine\n",
    "\n",
    "- https://developers.google.com/earth-engine/tutorials/tutorial_api_06"
   ]
  },
  {
   "cell_type": "code",
   "execution_count": null,
   "metadata": {
    "slideshow": {
     "slide_type": "fragment"
    }
   },
   "outputs": [],
   "source": [
    "# ndvi palette: red is low, green is high vegetation\n",
    "palette = ['red', 'yellow', 'green']\n",
    "\n",
    "ndvi_parameters = {'min': 0,\n",
    "                   'max': 0.4,\n",
    "                   'dimensions': 512,\n",
    "                   'palette': palette,\n",
    "                   'region': roi}"
   ]
  },
  {
   "cell_type": "code",
   "execution_count": null,
   "metadata": {
    "scrolled": true,
    "slideshow": {
     "slide_type": "slide"
    },
    "tags": []
   },
   "outputs": [],
   "source": [
    "for i in landsat_sequence:\n",
    "\n",
    "    # when was this image taken?\n",
    "    date = ee.Image(landsat_list.get(i)).get('DATE_ACQUIRED').getInfo()\n",
    "    \n",
    "    # print some information\n",
    "    print('Image #',i,date)\n",
    "    \n",
    "    # display the image\n",
    "    display(Image(url=ee.Image(landsat_list.get(i)).normalizedDifference(['SR_B5', 'SR_B4']).getThumbUrl(ndvi_parameters)))"
   ]
  }
 ],
 "metadata": {
  "celltoolbar": "Slideshow",
  "kernelspec": {
   "display_name": "Python 3",
   "language": "python",
   "name": "python3"
  },
  "language_info": {
   "codemirror_mode": {
    "name": "ipython",
    "version": 3
   },
   "file_extension": ".py",
   "mimetype": "text/x-python",
   "name": "python",
   "nbconvert_exporter": "python",
   "pygments_lexer": "ipython3",
   "version": "3.7.6"
  },
  "toc": {
   "base_numbering": 1,
   "nav_menu": {},
   "number_sections": true,
   "sideBar": true,
   "skip_h1_title": false,
   "title_cell": "Table of Contents",
   "title_sidebar": "Contents",
   "toc_cell": false,
   "toc_position": {
    "height": "calc(100% - 180px)",
    "left": "10px",
    "top": "150px",
    "width": "271.188px"
   },
   "toc_section_display": true,
   "toc_window_display": false
  }
 },
 "nbformat": 4,
 "nbformat_minor": 5
}
